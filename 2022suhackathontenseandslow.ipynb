{
 "cells": [
  {
   "cell_type": "code",
   "execution_count": 1,
   "id": "a931ea8d",
   "metadata": {
    "_cell_guid": "b1076dfc-b9ad-4769-8c92-a6c4dae69d19",
    "_uuid": "8f2839f25d086af736a60e9eeb907d3b93b6e0e5",
    "execution": {
     "iopub.execute_input": "2022-10-06T20:00:00.033082Z",
     "iopub.status.busy": "2022-10-06T20:00:00.032607Z",
     "iopub.status.idle": "2022-10-06T20:00:00.051138Z",
     "shell.execute_reply": "2022-10-06T20:00:00.049710Z"
    },
    "papermill": {
     "duration": 0.026455,
     "end_time": "2022-10-06T20:00:00.053955",
     "exception": false,
     "start_time": "2022-10-06T20:00:00.027500",
     "status": "completed"
    },
    "tags": []
   },
   "outputs": [
    {
     "name": "stdout",
     "output_type": "stream",
     "text": [
      "/kaggle/input/suhack2022data/restaurant-2-products-price.csv\n",
      "/kaggle/input/suhack2022data/UK Holidays.xlsx\n",
      "/kaggle/input/suhack2022data/london_weather.csv\n",
      "/kaggle/input/suhack2022data/indian_holidays.csv\n",
      "/kaggle/input/suhack2022data/restaurant-1-orders.csv\n",
      "/kaggle/input/suhack2022data/restaurant-2-orders.csv\n",
      "/kaggle/input/suhack2022data/restaurant-1-products-price.csv\n"
     ]
    }
   ],
   "source": [
    "# This Python 3 environment comes with many helpful analytics libraries installed\n",
    "# It is defined by the kaggle/python Docker image: https://github.com/kaggle/docker-python\n",
    "# For example, here's several helpful packages to load\n",
    "\n",
    "import numpy as np # linear algebra\n",
    "import pandas as pd # data processing, CSV file I/O (e.g. pd.read_csv)\n",
    "\n",
    "# Input data files are available in the read-only \"../input/\" directory\n",
    "# For example, running this (by clicking run or pressing Shift+Enter) will list all files under the input directory\n",
    "\n",
    "import os\n",
    "for dirname, _, filenames in os.walk('/kaggle/input'):\n",
    "    for filename in filenames:\n",
    "        print(os.path.join(dirname, filename))\n",
    "\n",
    "# You can write up to 20GB to the current directory (/kaggle/working/) that gets preserved as output when you create a version using \"Save & Run All\" \n",
    "# You can also write temporary files to /kaggle/temp/, but they won't be saved outside of the current session"
   ]
  },
  {
   "cell_type": "code",
   "execution_count": 2,
   "id": "5ac3cf3e",
   "metadata": {
    "execution": {
     "iopub.execute_input": "2022-10-06T20:00:00.060836Z",
     "iopub.status.busy": "2022-10-06T20:00:00.059774Z",
     "iopub.status.idle": "2022-10-06T20:00:00.973552Z",
     "shell.execute_reply": "2022-10-06T20:00:00.971639Z"
    },
    "papermill": {
     "duration": 0.921236,
     "end_time": "2022-10-06T20:00:00.977678",
     "exception": false,
     "start_time": "2022-10-06T20:00:00.056442",
     "status": "completed"
    },
    "tags": []
   },
   "outputs": [
    {
     "name": "stdout",
     "output_type": "stream",
     "text": [
      "False\n",
      "False\n"
     ]
    }
   ],
   "source": [
    "rest1dat = pd.read_csv(\"../input/suhack2022data/restaurant-1-products-price.csv\")\n",
    "rest1price = pd.read_csv(\"../input/suhack2022data/restaurant-1-orders.csv\")\n",
    "rest2dat = pd.read_csv(\"../input/suhack2022data/restaurant-2-orders.csv\")\n",
    "rest2price = pd.read_csv(\"../input/suhack2022data/restaurant-2-products-price.csv\")\n",
    "\n",
    "weatherdat = pd.read_csv(\"../input/suhack2022data/london_weather.csv\")\n",
    "ukholidat = pd.read_excel(\"../input/suhack2022data/UK Holidays.xlsx\")\n",
    "indholidat = pd.read_csv(\"../input/suhack2022data/indian_holidays.csv\")\n",
    "print(rest1dat.isnull().sum().any())\n",
    "print(rest2dat.isnull().sum().any())"
   ]
  },
  {
   "cell_type": "code",
   "execution_count": 3,
   "id": "14765c96",
   "metadata": {
    "execution": {
     "iopub.execute_input": "2022-10-06T20:00:00.986638Z",
     "iopub.status.busy": "2022-10-06T20:00:00.986174Z",
     "iopub.status.idle": "2022-10-06T20:00:00.991479Z",
     "shell.execute_reply": "2022-10-06T20:00:00.990039Z"
    },
    "papermill": {
     "duration": 0.012894,
     "end_time": "2022-10-06T20:00:00.994137",
     "exception": false,
     "start_time": "2022-10-06T20:00:00.981243",
     "status": "completed"
    },
    "tags": []
   },
   "outputs": [],
   "source": [
    "# Predict weekly demand based on week time step, weather information and holidays (seasons)\n",
    "\n",
    "# Testing"
   ]
  }
 ],
 "metadata": {
  "kernelspec": {
   "display_name": "Python 3",
   "language": "python",
   "name": "python3"
  },
  "language_info": {
   "codemirror_mode": {
    "name": "ipython",
    "version": 3
   },
   "file_extension": ".py",
   "mimetype": "text/x-python",
   "name": "python",
   "nbconvert_exporter": "python",
   "pygments_lexer": "ipython3",
   "version": "3.7.12"
  },
  "papermill": {
   "default_parameters": {},
   "duration": 11.438762,
   "end_time": "2022-10-06T20:00:01.722692",
   "environment_variables": {},
   "exception": null,
   "input_path": "__notebook__.ipynb",
   "output_path": "__notebook__.ipynb",
   "parameters": {},
   "start_time": "2022-10-06T19:59:50.283930",
   "version": "2.3.4"
  }
 },
 "nbformat": 4,
 "nbformat_minor": 5
}
