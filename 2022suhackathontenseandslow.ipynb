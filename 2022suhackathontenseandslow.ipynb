{
 "cells": [
  {
   "cell_type": "code",
   "execution_count": 1,
   "id": "3d4f3d41",
   "metadata": {
    "_cell_guid": "b1076dfc-b9ad-4769-8c92-a6c4dae69d19",
    "_uuid": "8f2839f25d086af736a60e9eeb907d3b93b6e0e5",
    "execution": {
     "iopub.execute_input": "2022-10-06T19:30:13.913788Z",
     "iopub.status.busy": "2022-10-06T19:30:13.913360Z",
     "iopub.status.idle": "2022-10-06T19:30:13.938679Z",
     "shell.execute_reply": "2022-10-06T19:30:13.937867Z"
    },
    "papermill": {
     "duration": 0.033166,
     "end_time": "2022-10-06T19:30:13.941650",
     "exception": false,
     "start_time": "2022-10-06T19:30:13.908484",
     "status": "completed"
    },
    "tags": []
   },
   "outputs": [
    {
     "name": "stdout",
     "output_type": "stream",
     "text": [
      "/kaggle/input/restaurant-data/restaurant-2-products-price.csv\n",
      "/kaggle/input/restaurant-data/restaurant-1-orders.csv\n",
      "/kaggle/input/restaurant-data/restaurant-2-orders.csv\n",
      "/kaggle/input/restaurant-data/restaurant-1-products-price.csv\n",
      "/kaggle/input/ukholidays/UK Holidays.xlsx\n",
      "/kaggle/input/indianholidays/indian_holidays.csv\n",
      "/kaggle/input/londonweathersuhack/london_weather.csv\n"
     ]
    }
   ],
   "source": [
    "# This Python 3 environment comes with many helpful analytics libraries installed\n",
    "# It is defined by the kaggle/python Docker image: https://github.com/kaggle/docker-python\n",
    "# For example, here's several helpful packages to load\n",
    "\n",
    "import numpy as np # linear algebra\n",
    "import pandas as pd # data processing, CSV file I/O (e.g. pd.read_csv)\n",
    "\n",
    "# Input data files are available in the read-only \"../input/\" directory\n",
    "# For example, running this (by clicking run or pressing Shift+Enter) will list all files under the input directory\n",
    "\n",
    "import os\n",
    "for dirname, _, filenames in os.walk('/kaggle/input'):\n",
    "    for filename in filenames:\n",
    "        print(os.path.join(dirname, filename))\n",
    "\n",
    "# You can write up to 20GB to the current directory (/kaggle/working/) that gets preserved as output when you create a version using \"Save & Run All\" \n",
    "# You can also write temporary files to /kaggle/temp/, but they won't be saved outside of the current session"
   ]
  },
  {
   "cell_type": "code",
   "execution_count": 2,
   "id": "56df06ce",
   "metadata": {
    "execution": {
     "iopub.execute_input": "2022-10-06T19:30:13.948016Z",
     "iopub.status.busy": "2022-10-06T19:30:13.947640Z",
     "iopub.status.idle": "2022-10-06T19:30:14.699522Z",
     "shell.execute_reply": "2022-10-06T19:30:14.698460Z"
    },
    "papermill": {
     "duration": 0.757627,
     "end_time": "2022-10-06T19:30:14.702158",
     "exception": false,
     "start_time": "2022-10-06T19:30:13.944531",
     "status": "completed"
    },
    "tags": []
   },
   "outputs": [
    {
     "name": "stdout",
     "output_type": "stream",
     "text": [
      "False\n",
      "False\n"
     ]
    }
   ],
   "source": [
    "rest1dat = pd.read_csv(\"../input/restaurant-data/restaurant-1-orders.csv\")\n",
    "rest1price = pd.read_csv(\"../input/restaurant-data/restaurant-1-products-price.csv\")\n",
    "rest2dat = pd.read_csv(\"../input/restaurant-data/restaurant-2-orders.csv\")\n",
    "rest2price = pd.read_csv(\"../input/restaurant-data/restaurant-2-products-price.csv\")\n",
    "\n",
    "weatherdat = pd.read_csv(\"../input/londonweathersuhack/london_weather.csv\")\n",
    "ukholidat = pd.read_excel(\"../input/ukholidays/UK Holidays.xlsx\")\n",
    "indholidat = pd.read_csv(\"../input/indianholidays/indian_holidays.csv\")\n",
    "print(rest1dat.isnull().sum().any())\n",
    "print(rest2dat.isnull().sum().any())"
   ]
  },
  {
   "cell_type": "code",
   "execution_count": 3,
   "id": "e25aee14",
   "metadata": {
    "execution": {
     "iopub.execute_input": "2022-10-06T19:30:14.708270Z",
     "iopub.status.busy": "2022-10-06T19:30:14.707666Z",
     "iopub.status.idle": "2022-10-06T19:30:14.711258Z",
     "shell.execute_reply": "2022-10-06T19:30:14.710462Z"
    },
    "papermill": {
     "duration": 0.009187,
     "end_time": "2022-10-06T19:30:14.713717",
     "exception": false,
     "start_time": "2022-10-06T19:30:14.704530",
     "status": "completed"
    },
    "tags": []
   },
   "outputs": [],
   "source": [
    "# Predict weekly demand based on week time step, weather information and holidays (seasons)\n",
    "\n"
   ]
  }
 ],
 "metadata": {
  "kernelspec": {
   "display_name": "Python 3",
   "language": "python",
   "name": "python3"
  },
  "language_info": {
   "codemirror_mode": {
    "name": "ipython",
    "version": 3
   },
   "file_extension": ".py",
   "mimetype": "text/x-python",
   "name": "python",
   "nbconvert_exporter": "python",
   "pygments_lexer": "ipython3",
   "version": "3.7.12"
  },
  "papermill": {
   "default_parameters": {},
   "duration": 10.052009,
   "end_time": "2022-10-06T19:30:15.335510",
   "environment_variables": {},
   "exception": null,
   "input_path": "__notebook__.ipynb",
   "output_path": "__notebook__.ipynb",
   "parameters": {},
   "start_time": "2022-10-06T19:30:05.283501",
   "version": "2.3.4"
  }
 },
 "nbformat": 4,
 "nbformat_minor": 5
}
